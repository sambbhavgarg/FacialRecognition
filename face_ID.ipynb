{
 "cells": [
  {
   "cell_type": "code",
   "execution_count": 5,
   "metadata": {},
   "outputs": [],
   "source": [
    "import cv2\n",
    "import os\n",
    "import numpy as np\n",
    "from PIL import Image\n",
    "import pickle"
   ]
  },
  {
   "cell_type": "code",
   "execution_count": 6,
   "metadata": {},
   "outputs": [],
   "source": [
    "b_dir=os.path.dirname(os.path.abspath(\"__file__\"))\n",
    "im_dir=os.path.join(b_dir,\"images\")"
   ]
  },
  {
   "cell_type": "code",
   "execution_count": 7,
   "metadata": {},
   "outputs": [],
   "source": [
    "face_cascade = cv2.CascadeClassifier('/home/sambbhav/MachLeaProjects/Python/OpenCV/FacialReco/HaarCascades/haarcascade_frontalface_alt2.xml')\n",
    "recognizer=cv2.face.LBPHFaceRecognizer_create()\n",
    "\n",
    "current_id=0\n",
    "label_ids={}\n",
    "y_labels=[]\n",
    "x_trainingset=[]"
   ]
  },
  {
   "cell_type": "code",
   "execution_count": 8,
   "metadata": {},
   "outputs": [],
   "source": [
    "for root,_,files in os.walk(im_dir):\n",
    "    for file in files:\n",
    "        if file.endswith(\".png\") or file.endswith(\".jpeg\") or file.endswith(\".jpg\"):\n",
    "            path=os.path.join(root,file)#what happ\n",
    "            label=os.path.basename(root).replace(\" \",\" | \").lower()\n",
    "            #print(root,file,label,path)\n",
    "            if label not in label_ids:\n",
    "                label_ids[label]=current_id\n",
    "                current_id+=1\n",
    "            id_=label_ids[label]\n",
    "            #y_labels.append(label)\n",
    "            #x_trainingset.append(path)\n",
    "            pil_image=Image.open(path).convert(\"L\")\n",
    "            image_array=np.array(pil_image,\"uint8\")\n",
    "            faces = face_cascade.detectMultiScale(image_array, scaleFactor=1.5, minNeighbors=5)\n",
    "            for (x,y,w,h) in faces:\n",
    "                roi=image_array[y:y+h,x:x+w]\n",
    "                x_trainingset.append(roi)\n",
    "                y_labels.append(id_)\n",
    "                \n",
    "with open(\"labels.pickle\",'wb') as f:\n",
    "    pickle.dump(label_ids,f)\n",
    "    \n",
    "recognizer.train(x_trainingset,np.array(y_labels))\n",
    "recognizer.save('/home/sambbhav/MachLeaProjects/Python/OpenCV/FacialReco/trainer.yml')"
   ]
  },
  {
   "cell_type": "code",
   "execution_count": null,
   "metadata": {},
   "outputs": [],
   "source": []
  }
 ],
 "metadata": {
  "kernelspec": {
   "display_name": "workwithcv",
   "language": "python",
   "name": "workwithcv"
  },
  "language_info": {
   "codemirror_mode": {
    "name": "ipython",
    "version": 3
   },
   "file_extension": ".py",
   "mimetype": "text/x-python",
   "name": "python",
   "nbconvert_exporter": "python",
   "pygments_lexer": "ipython3",
   "version": "3.5.2"
  }
 },
 "nbformat": 4,
 "nbformat_minor": 2
}
