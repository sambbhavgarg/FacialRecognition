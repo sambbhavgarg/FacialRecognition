{
 "cells": [
  {
   "cell_type": "code",
   "execution_count": 5,
   "metadata": {},
   "outputs": [],
   "source": [
    "import numpy as np\n",
    "import cv2\n",
    "import pickle"
   ]
  },
  {
   "cell_type": "code",
   "execution_count": 7,
   "metadata": {},
   "outputs": [],
   "source": [
    "face_cascade=cv2.CascadeClassifier('/home/sambbhav/MachLeaProjects/Python/OpenCV/FacialReco/HaarCascades/haarcascade_frontalface_alt.xml')\n",
    "\n",
    "recog = cv2.face.LBPHFaceRecognizer_create()\n",
    "recog.read(\"trainer.yml\")\n",
    "\n",
    "labels = {\"person_name\": 1}\n",
    "with open(\"labels.pickle\", 'rb') as f:\n",
    "    og_labels = pickle.load(f)\n",
    "    labels = {v:k for k,v in og_labels.items()}\n",
    "\n",
    "cap = cv2.VideoCapture(0)\n",
    "\n",
    "while(True):\n",
    "    # Capture frame-by-frame\n",
    "    ret, frame = cap.read()\n",
    "    gray  = cv2.cvtColor(frame, cv2.COLOR_BGR2GRAY)\n",
    "    faces = face_cascade.detectMultiScale(gray, scaleFactor=1.3, minNeighbors=5)\n",
    "    #scaleFactor: Parameter specifying how much the image size is reduced at each image scale. \n",
    "    #ninNeighbors: Parameter specifying how many neighbors each candidate rectangle should have to retain it.\n",
    "    \n",
    "    for (x, y, w, h) in faces:\n",
    "        #x,y,w,h are achieved from face_cascade.detectMultiScale()\n",
    "        #print(x,y,w,h)\n",
    "        roi_gray = gray[y:y+h, x:x+w] #(ycord_start, ycord_end)\n",
    "        roi_color = frame[y:y+h, x:x+w]\n",
    "\n",
    "        id_, conf = recog.predict(roi_gray)\n",
    "        if conf>=4 and conf <= 85:\n",
    "            #print(5: #id_)\n",
    "            #print(labels[id_])\n",
    "            font = cv2.FONT_HERSHEY_SIMPLEX\n",
    "            name = labels[id_]\n",
    "            color = (255, 255, 255)\n",
    "            stroke = 2\n",
    "            cv2.putText(frame, name, (x,y), font, 1, color, stroke, cv2.LINE_AA)\n",
    "\n",
    "        img_item = \"saved.png\"\n",
    "        cv2.imwrite(img_item, roi_gray)\n",
    "\n",
    "        color = (255, 0, 0) #BGR 0-255 \n",
    "        stroke = 2\n",
    "        end_cord_x = x + w\n",
    "        end_cord_y = y + h\n",
    "        cv2.rectangle(frame, (x, y), (end_cord_x, end_cord_y), color, stroke)\n",
    "        #subitems = smile_cascade.detectMultiScale(roi_gray)\n",
    "        #for (ex,ey,ew,eh) in subitems:\n",
    "        #cv2.rectangle(roi_color,(ex,ey),(ex+ew,ey+eh),(0,255,0),2)\n",
    "    # Display the resulting frame\n",
    "    cv2.imshow('frame',frame)\n",
    "    if cv2.waitKey(20) & 0xFF == ord('q'):\n",
    "        break\n",
    "\n",
    "# When everything done, release the capture\n",
    "cap.release()\n",
    "cv2.destroyAllWindows()"
   ]
  },
  {
   "cell_type": "code",
   "execution_count": 4,
   "metadata": {},
   "outputs": [],
   "source": [
    "cap.release()"
   ]
  },
  {
   "cell_type": "code",
   "execution_count": null,
   "metadata": {},
   "outputs": [],
   "source": []
  }
 ],
 "metadata": {
  "kernelspec": {
   "display_name": "workwithcv",
   "language": "python",
   "name": "workwithcv"
  }
 },
 "nbformat": 4,
 "nbformat_minor": 2
}
